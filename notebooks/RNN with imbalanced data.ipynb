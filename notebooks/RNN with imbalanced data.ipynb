{
 "cells": [
  {
   "cell_type": "code",
   "execution_count": 89,
   "metadata": {},
   "outputs": [],
   "source": [
    "import pandas as pd\n",
    "import numpy as np\n",
    "import pickle\n",
    "import nltk\n",
    "import random\n",
    "from sklearn.model_selection import train_test_split\n",
    "from pre_processing.textProcessing import TextPreProcessor\n",
    "import tensorflow as tf\n",
    "from tensorflow.keras import layers\n",
    "from tensorflow.keras import losses\n",
    "from tensorflow.keras import utils\n",
    "from tensorflow.keras.layers import TextVectorization\n",
    "from keras.utils import pad_sequences\n",
    "from keras.preprocessing.text import Tokenizer\n",
    "from sklearn.metrics import precision_score, recall_score, auc, accuracy_score\n",
    "\n",
    "def evaluate_classifier(y_true, y_pred):\n",
    "    accr=accuracy_score(y_true, y_pred)\n",
    "    precision=precision_score(y_true,y_pred)\n",
    "    recall=recall_score(y_true,y_pred)\n",
    "    print(f\"Accuracy: {accr}, Precision: {precision}, Recall: {recall}\")\n",
    "    return (accr, precision, recall)\n",
    "\n",
    "%matplotlib inline"
   ]
  },
  {
   "cell_type": "markdown",
   "metadata": {},
   "source": [
    "# Data"
   ]
  },
  {
   "cell_type": "code",
   "execution_count": 105,
   "metadata": {},
   "outputs": [],
   "source": [
    "train = pd.read_csv('../data/train.csv')\n",
    "labels = train[['toxic','severe_toxic','obscene','threat','insult','identity_hate']]"
   ]
  },
  {
   "cell_type": "code",
   "execution_count": 106,
   "metadata": {},
   "outputs": [],
   "source": [
    "random.seed(923)\n",
    "\n",
    "X_train, X_test, y_train, y_test = train_test_split(train.comment_text,\n",
    "                                                    labels, test_size = 0.25,random_state = 23)\n",
    "\n",
    "X_train.reset_index(drop = True,inplace = True)\n",
    "X_test.reset_index(drop = True,inplace = True)\n",
    "y_train.reset_index(drop = True,inplace = True)\n",
    "y_test.reset_index(drop = True,inplace = True)"
   ]
  },
  {
   "cell_type": "markdown",
   "metadata": {},
   "source": [
    "## Pre Processing"
   ]
  },
  {
   "cell_type": "code",
   "execution_count": 107,
   "metadata": {},
   "outputs": [
    {
     "name": "stdout",
     "output_type": "stream",
     "text": [
      "Original text:\n",
      "That's correct. A smaller diameter is held less securely by the sphincter, and is less efficient at allowing gas through.\n",
      "Vectorized:\n",
      "[203, 365, 5, 2894, 5001, 8, 1603, 460, 5001, 31, 1, 5001, 4, 8, 460, 5001, 34, 2946, 2853, 334]\n",
      "Padded:\n",
      "[ 203  365    5 2894 5001    8 1603  460 5001   31    1 5001    4    8\n",
      "  460 5001   34 2946 2853  334    0    0    0    0    0    0    0    0\n",
      "    0    0    0    0    0    0    0    0    0    0    0    0    0    0\n",
      "    0    0    0    0    0    0    0    0    0    0    0    0    0    0\n",
      "    0    0    0    0    0    0    0    0    0    0    0    0    0    0\n",
      "    0    0    0    0    0    0    0    0    0    0    0    0    0    0\n",
      "    0    0    0    0    0    0    0    0    0    0    0    0    0    0\n",
      "    0    0    0    0    0    0    0    0    0    0    0    0    0    0\n",
      "    0    0    0    0    0    0    0    0    0    0    0    0    0    0\n",
      "    0    0    0    0    0    0    0    0    0    0    0    0    0    0\n",
      "    0    0    0    0    0    0    0    0    0    0]\n"
     ]
    }
   ],
   "source": [
    "VOCAB_SIZE = 5000\n",
    "MAX_SEQUENCE_LENGTH = 150\n",
    "# Create the tokenizer\n",
    "t = Tokenizer()\n",
    "# Fit the tokenizer on the documents\n",
    "t.fit_on_texts(X_train)\n",
    "\n",
    "\"\"\"\n",
    "The word index for keras Tokenizer is ordered based on frequency. Therefore we can do the following according to\n",
    "https://github.com/keras-team/keras/issues/8092\n",
    "\"\"\"\n",
    "t.oov_token = '_unknown_'\n",
    "t.word_index = {e:i for e,i in t.word_index.items() if i <= VOCAB_SIZE} # <= because tokenizer is 1 indexed\n",
    "t.word_index[t.oov_token] = VOCAB_SIZE + 1\n",
    "\n",
    "\"\"\"\n",
    "Apply the tokenizer\n",
    "\"\"\"\n",
    "encoded_docs = t.texts_to_sequences(X_train)\n",
    "\n",
    "\"\"\"\n",
    "Padd the sequences\n",
    "\"\"\"\n",
    "padded_docs = pad_sequences(encoded_docs, maxlen = MAX_SEQUENCE_LENGTH, padding = 'post')\n",
    "\n",
    "print(\"Original text:\")\n",
    "print(X_train[0])\n",
    "print(\"Vectorized:\")\n",
    "print(encoded_docs[0])\n",
    "print(\"Padded:\")\n",
    "print(padded_docs[0])"
   ]
  },
  {
   "cell_type": "markdown",
   "metadata": {},
   "source": [
    "## Create Model"
   ]
  },
  {
   "cell_type": "code",
   "execution_count": 108,
   "metadata": {},
   "outputs": [],
   "source": [
    "def create_model(vocab_size, num_labels, sequence_length):\n",
    "    model = tf.keras.Sequential([\n",
    "        layers.Input(shape=(sequence_length,)),\n",
    "        layers.Embedding(input_dim=vocab_size, output_dim=64, input_length=sequence_length, mask_zero=True),\n",
    "        layers.Conv1D(filters = 32, kernel_size = 5,padding = 'same'),\n",
    "        layers.MaxPooling1D(pool_size = 5,strides = 1,padding = 'same'),\n",
    "        layers.Dropout(0.4),\n",
    "        layers.Bidirectional(layers.LSTM(64,return_sequences = False,dropout = 0.2,recurrent_dropout = 0.2)),\n",
    "        layers.Dense(50,activation = 'relu'),\n",
    "        layers.Dense(num_labels,activation = 'sigmoid')\n",
    "    ])\n",
    "    return model"
   ]
  },
  {
   "cell_type": "code",
   "execution_count": 109,
   "metadata": {},
   "outputs": [],
   "source": [
    "model = create_model(len(t.word_index)+1, num_labels=6, sequence_length=MAX_SEQUENCE_LENGTH)\n",
    "model.compile(\n",
    "    loss=losses.binary_crossentropy,\n",
    "    optimizer='adam',\n",
    "    metrics=['accuracy']\n",
    ")"
   ]
  },
  {
   "cell_type": "code",
   "execution_count": 110,
   "metadata": {},
   "outputs": [],
   "source": [
    "\"\"\"\n",
    "Defining early-stopping callback\n",
    "\"\"\"\n",
    "from keras.callbacks import EarlyStopping\n",
    "# Define an early-stopping callback\n",
    "cb = [EarlyStopping(monitor='val_loss',patience = 2)]"
   ]
  },
  {
   "cell_type": "code",
   "execution_count": 111,
   "metadata": {},
   "outputs": [
    {
     "name": "stdout",
     "output_type": "stream",
     "text": [
      "Epoch 1/20\n",
      "2992/2992 [==============================] - 575s 190ms/step - loss: 0.0738 - accuracy: 0.9794 - val_loss: 0.0544 - val_accuracy: 0.9938\n",
      "Epoch 2/20\n",
      "2992/2992 [==============================] - 566s 189ms/step - loss: 0.0509 - accuracy: 0.9895 - val_loss: 0.0532 - val_accuracy: 0.9933\n",
      "Epoch 3/20\n",
      "2992/2992 [==============================] - 572s 191ms/step - loss: 0.0470 - accuracy: 0.9732 - val_loss: 0.0560 - val_accuracy: 0.9824\n",
      "Epoch 4/20\n",
      "2992/2992 [==============================] - 581s 194ms/step - loss: 0.0430 - accuracy: 0.9904 - val_loss: 0.0573 - val_accuracy: 0.9936\n"
     ]
    },
    {
     "data": {
      "text/plain": [
       "<keras.callbacks.History at 0x7f85bc7bea58>"
      ]
     },
     "execution_count": 111,
     "metadata": {},
     "output_type": "execute_result"
    }
   ],
   "source": [
    "\"\"\"\n",
    "Training the model\n",
    "\"\"\"\n",
    "batch_size = 32\n",
    "num_epochs = 20\n",
    "\n",
    "model.fit(padded_docs, y_train,validation_split=0.2,\\\n",
    "          batch_size=batch_size, epochs=num_epochs,verbose=1,callbacks =cb)"
   ]
  },
  {
   "cell_type": "markdown",
   "metadata": {},
   "source": [
    "## Scoring the model\n",
    "\n"
   ]
  },
  {
   "cell_type": "code",
   "execution_count": 112,
   "metadata": {},
   "outputs": [],
   "source": [
    "encoded_doc_test = t.texts_to_sequences(X_test)\n",
    "padded_doc_test = pad_sequences(encoded_doc_test, maxlen = MAX_SEQUENCE_LENGTH, padding = 'post')"
   ]
  },
  {
   "cell_type": "code",
   "execution_count": 113,
   "metadata": {},
   "outputs": [
    {
     "name": "stdout",
     "output_type": "stream",
     "text": [
      "1247/1247 [==============================] - 29s 22ms/step\n"
     ]
    }
   ],
   "source": [
    "pred = model.predict(padded_doc_test)"
   ]
  },
  {
   "cell_type": "code",
   "execution_count": 114,
   "metadata": {},
   "outputs": [
    {
     "name": "stdout",
     "output_type": "stream",
     "text": [
      "\n",
      "toxic:\n",
      "Benchmark: 0.9032161030757275\n",
      "Accuracy: 0.9606447246384078, Precision: 0.674954674954675, Recall: 0.8921602191030469\n",
      "\n",
      "severe_toxic:\n",
      "Benchmark: 0.9897475747624896\n",
      "Accuracy: 0.9897475747624896, Precision: 0.05378973105134474, Recall: 0.5\n",
      "\n",
      "obscene:\n",
      "Benchmark: 0.9477853257463715\n",
      "Accuracy: 0.9808738375153536, Precision: 0.7542006721075372, Recall: 0.8622392974753018\n",
      "\n",
      "threat:\n",
      "Benchmark: 0.997217556964881\n",
      "Accuracy: 0.997217556964881, Precision: 0.0, Recall: 0.0\n",
      "\n",
      "insult:\n",
      "Benchmark: 0.9508435063795654\n"
     ]
    },
    {
     "name": "stderr",
     "output_type": "stream",
     "text": [
      "/Users/xiaoma/envs/ds207/lib/python3.7/site-packages/sklearn/metrics/_classification.py:1318: UndefinedMetricWarning: Recall is ill-defined and being set to 0.0 due to no true samples. Use `zero_division` parameter to control this behavior.\n",
      "  _warn_prf(average, modifier, msg_start, len(result))\n"
     ]
    },
    {
     "name": "stdout",
     "output_type": "stream",
     "text": [
      "Accuracy: 0.9730027824430351, Precision: 0.6435492095869454, Recall: 0.7695121951219512\n",
      "\n",
      "identity_hate:\n",
      "Benchmark: 0.9909257263179004\n",
      "Accuracy: 0.9909257263179004, Precision: 0.0, Recall: 0.0\n"
     ]
    },
    {
     "name": "stderr",
     "output_type": "stream",
     "text": [
      "/Users/xiaoma/envs/ds207/lib/python3.7/site-packages/sklearn/metrics/_classification.py:1318: UndefinedMetricWarning: Recall is ill-defined and being set to 0.0 due to no true samples. Use `zero_division` parameter to control this behavior.\n",
      "  _warn_prf(average, modifier, msg_start, len(result))\n"
     ]
    }
   ],
   "source": [
    "## Performances:\n",
    "for i in range(6):\n",
    "    y_pred_bin = [x>0.5 for x in pred[:,i]]\n",
    "    print(f\"\\n{y_test.columns[i]}:\")\n",
    "    print(f\"Benchmark: {1-np.mean(y_test.iloc[:,i])}\")\n",
    "    evaluate_classifier(y_pred_bin, y_test.iloc[:,i]);"
   ]
  }
 ],
 "metadata": {
  "kernelspec": {
   "display_name": "ds207",
   "language": "python",
   "name": "ds207"
  },
  "language_info": {
   "codemirror_mode": {
    "name": "ipython",
    "version": 3
   },
   "file_extension": ".py",
   "mimetype": "text/x-python",
   "name": "python",
   "nbconvert_exporter": "python",
   "pygments_lexer": "ipython3",
   "version": "3.7.3"
  }
 },
 "nbformat": 4,
 "nbformat_minor": 2
}
